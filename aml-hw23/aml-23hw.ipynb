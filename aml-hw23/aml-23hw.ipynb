{
 "cells": [
  {
   "cell_type": "markdown",
   "metadata": {},
   "source": [
    "## Digit Recognizer\n",
    "https://www.kaggle.com/c/digit-recognizer"
   ]
  },
  {
   "cell_type": "code",
   "execution_count": 9,
   "metadata": {},
   "outputs": [],
   "source": [
    "%matplotlib inline\n",
    "import cv2\n",
    "import numpy as np\n",
    "import pandas as pd\n",
    "import matplotlib.pyplot as plt\n",
    "from sklearn.ensemble import RandomForestClassifier\n",
    "from sklearn.linear_model import LogisticRegression\n",
    "from sklearn.model_selection import train_test_split\n"
   ]
  },
  {
   "cell_type": "markdown",
   "metadata": {},
   "source": [
    "## Загружаем исходные данные"
   ]
  },
  {
   "cell_type": "code",
   "execution_count": 10,
   "metadata": {},
   "outputs": [],
   "source": [
    "train = np.loadtxt('train.csv', delimiter=',', skiprows=1)\n",
    "test = np.loadtxt('test.csv', delimiter=',', skiprows=1)"
   ]
  },
  {
   "cell_type": "code",
   "execution_count": 12,
   "metadata": {},
   "outputs": [],
   "source": [
    "X = train[:, 1:]\n",
    "labels = train[:, 0]"
   ]
  },
  {
   "cell_type": "code",
   "execution_count": 37,
   "metadata": {},
   "outputs": [
    {
     "name": "stdout",
     "output_type": "stream",
     "text": [
      "(42000, 784) (28000, 784)\n",
      "n_comp=32 S=0.751\n",
      "(70000, 32)\n",
      "(70000, 784)\n"
     ]
    }
   ],
   "source": [
    "#PCA\n",
    "print(X.shape, test.shape)\n",
    "data = np.concatenate((X, test), axis=0)\n",
    "data.shape\n",
    "# центрируем данные\n",
    "data_mean = data.mean(axis=0)\n",
    "data_center = data - data_mean\n",
    "# матрица ковариации признаков\n",
    "cov = np.dot(data_center.T, data_center) / data_center.shape[0]\n",
    "U, S, _ = np.linalg.svd(cov)\n",
    "# U - собсвенные вектора матрицы ковариации\n",
    "# S - собственные значения\n",
    "\n",
    "# накопленная сумма собственных значений\n",
    "S_cumsum = np.cumsum(S) / np.sum(S)\n",
    "\n",
    "S_thr = 0.75  # задаем порог для накопленной суммы собственных значений\n",
    "\n",
    "# определяем необходимое число компонент для заданного порога\n",
    "n_comp = np.argmax(np.where(S_cumsum > S_thr, 1, 0))\n",
    "\n",
    "print('n_comp=%d S=%.3f' % (n_comp, S_cumsum[n_comp]))\n",
    "\n",
    "# получаем сжатое представление объектов\n",
    "data_reduced = np.dot(data_center, U[:, :n_comp])\n",
    "print(data_reduced.shape)\n",
    "print(data.shape)\n",
    "X_reduced = data_reduced[:X.shape[0], :]\n",
    "test_reduced = data_reduced[X.shape[0]:, :]"
   ]
  },
  {
   "cell_type": "code",
   "execution_count": 38,
   "metadata": {},
   "outputs": [],
   "source": [
    "X_train, X_val, y_train, y_val = train_test_split(X_reduced, labels, test_size=0.25, random_state=42)\n",
    "rfc = RandomForestClassifier(n_jobs=-1, n_estimators=25)\n",
    "rfc.fit(X_train, y_train)\n",
    "pred_val = rfc.predict(X_val)"
   ]
  },
  {
   "cell_type": "code",
   "execution_count": 39,
   "metadata": {},
   "outputs": [
    {
     "name": "stdout",
     "output_type": "stream",
     "text": [
      "Accuracy: 0.9341904761904762\n"
     ]
    }
   ],
   "source": [
    "from sklearn.metrics import accuracy_score\n",
    "print('Accuracy: %s' % accuracy_score(y_val, pred_val))"
   ]
  },
  {
   "cell_type": "code",
   "execution_count": 40,
   "metadata": {},
   "outputs": [
    {
     "name": "stdout",
     "output_type": "stream",
     "text": [
      "              precision    recall  f1-score   support\n",
      "\n",
      "         0.0       0.96      0.98      0.97      1025\n",
      "         1.0       0.97      0.99      0.98      1146\n",
      "         2.0       0.94      0.93      0.93      1072\n",
      "         3.0       0.92      0.89      0.91      1151\n",
      "         4.0       0.93      0.93      0.93      1024\n",
      "         5.0       0.90      0.93      0.91       898\n",
      "         6.0       0.95      0.96      0.96      1010\n",
      "         7.0       0.95      0.94      0.94      1135\n",
      "         8.0       0.92      0.90      0.91      1005\n",
      "         9.0       0.91      0.89      0.90      1034\n",
      "\n",
      "   micro avg       0.93      0.93      0.93     10500\n",
      "   macro avg       0.93      0.93      0.93     10500\n",
      "weighted avg       0.93      0.93      0.93     10500\n",
      "\n"
     ]
    }
   ],
   "source": [
    "from sklearn.metrics import classification_report\n",
    "print(classification_report(y_val, pred_val))"
   ]
  },
  {
   "cell_type": "code",
   "execution_count": 41,
   "metadata": {},
   "outputs": [
    {
     "name": "stdout",
     "output_type": "stream",
     "text": [
      "[[1001    0    3    1    3    4   10    0    3    0]\n",
      " [   0 1130    6    1    1    4    2    0    2    0]\n",
      " [  15    6  994   14    8    2    6    8   15    4]\n",
      " [   5    2   19 1030    1   31    4   12   30   17]\n",
      " [   1    4    5    1  954    1   13    4    5   36]\n",
      " [   1    0    4   19    7  837   10    2   12    6]\n",
      " [  15    0    1    1    6    9  974    0    4    0]\n",
      " [   1   11   16    1    8    1    0 1065    5   27]\n",
      " [   4    4    6   36    8   34    4    3  900    6]\n",
      " [   5    2    5   20   33    9    3   28    5  924]]\n"
     ]
    }
   ],
   "source": [
    "from sklearn.metrics import confusion_matrix\n",
    "print(confusion_matrix(y_val, pred_val))"
   ]
  },
  {
   "cell_type": "markdown",
   "metadata": {},
   "source": [
    "## Предсказания на тестовыйх данных"
   ]
  },
  {
   "cell_type": "code",
   "execution_count": 46,
   "metadata": {},
   "outputs": [],
   "source": [
    "pred_test = rfc.predict(test_reduced).astype(int)"
   ]
  },
  {
   "cell_type": "markdown",
   "metadata": {},
   "source": [
    "## Визуализируем предсказания"
   ]
  },
  {
   "cell_type": "code",
   "execution_count": 47,
   "metadata": {},
   "outputs": [
    {
     "data": {
      "image/png": "[encoded data removed]",
      "text/plain": [
       "<Figure size 2016x2016 with 10 Axes>"
      ]
     },
     "metadata": {
      "needs_background": "light"
     },
     "output_type": "display_data"
    }
   ],
   "source": [
    "test_img = np.reshape(test[:, :], (len(test[:, :]), 28, 28))\n",
    "fig = plt.figure(figsize=(28, 28))\n",
    "for i, img in enumerate(test_img[0:10], 1):\n",
    "    subplot = fig.add_subplot(1, 11, i)\n",
    "    plt.imshow(img, cmap='gray');\n",
    "    subplot.set_title('%s' % pred_test[i - 1]);"
   ]
  },
  {
   "cell_type": "markdown",
   "metadata": {},
   "source": [
    "## Готовим файл для отправки"
   ]
  },
  {
   "cell_type": "code",
   "execution_count": 48,
   "metadata": {},
   "outputs": [],
   "source": [
    "with open('submit.txt', 'w') as dst:\n",
    "    dst.write('ImageId,Label\\n')\n",
    "    for i, p in enumerate(pred_test, 1):\n",
    "        dst.write('%s,%s\\n' % (i, p))"
   ]
  },
  {
   "cell_type": "code",
   "execution_count": 45,
   "metadata": {},
   "outputs": [
    {
     "name": "stderr",
     "output_type": "stream",
     "text": [
      "\"head\" не является внутренней или внешней\n",
      "командой, исполняемой программой или пакетным файлом.\n"
     ]
    }
   ],
   "source": [
    "!head submit.txt"
   ]
  }
 ],
 "metadata": {
  "kernelspec": {
   "display_name": "Python 3",
   "language": "python",
   "name": "python3"
  },
  "language_info": {
   "codemirror_mode": {
    "name": "ipython",
    "version": 3
   },
   "file_extension": ".py",
   "mimetype": "text/x-python",
   "name": "python",
   "nbconvert_exporter": "python",
   "pygments_lexer": "ipython3",
   "version": "3.7.0"
  }
 },
 "nbformat": 4,
 "nbformat_minor": 2
}
